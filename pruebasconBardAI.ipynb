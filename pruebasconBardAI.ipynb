{
  "nbformat": 4,
  "nbformat_minor": 0,
  "metadata": {
    "colab": {
      "private_outputs": true,
      "provenance": [],
      "authorship_tag": "ABX9TyORcoO3rOdqet+mLETwoa2/",
      "include_colab_link": true
    },
    "kernelspec": {
      "name": "python3",
      "display_name": "Python 3"
    },
    "language_info": {
      "name": "python"
    }
  },
  "cells": [
    {
      "cell_type": "markdown",
      "metadata": {
        "id": "view-in-github",
        "colab_type": "text"
      },
      "source": [
        "<a href=\"https://colab.research.google.com/github/darwinyusef/aichatgptbard/blob/master/pruebasconBardAI.ipynb\" target=\"_parent\"><img src=\"https://colab.research.google.com/assets/colab-badge.svg\" alt=\"Open In Colab\"/></a>"
      ]
    },
    {
      "cell_type": "code",
      "source": [
        "!pip install bardapi"
      ],
      "metadata": {
        "id": "omqWwKzA2KYW"
      },
      "execution_count": null,
      "outputs": []
    },
    {
      "cell_type": "code",
      "execution_count": null,
      "metadata": {
        "id": "3_lLdbPT2C-M"
      },
      "outputs": [],
      "source": [
        "from bardapi import Bard\n",
        "import json"
      ]
    },
    {
      "cell_type": "code",
      "source": [
        "try:\n",
        "  bard = Bard('aQje31uu1VefDqm5O_sM-gsazT-3JJAie-i3COoH_6n3Y5jIMLUVTw9z9kC6n1YKCSjSHg.')\n",
        "except error:\n",
        "  print(error)\n",
        "  print('Elije una nueva contraseña')\n"
      ],
      "metadata": {
        "id": "WM_LMmum2Tjg"
      },
      "execution_count": null,
      "outputs": []
    },
    {
      "cell_type": "code",
      "source": [
        "result = bard.get_answer('se un docente experto en el idioma ingles y generame 3 estrategias para subir de nivel a2 a b1, crea una lista que pueda ser convertida a un csv separado por \"punto y coma\" así:  Nivel, Wstrategia, Ejemplos. inicia la tabla con csv y termina con la palabra fincsv omite todo contenido de introducción explicación u adicional')\n",
        "string = result['content']\n",
        "obj = string[string.find(\"**csv**\") : string.rfind(\"**fincsv**\")]\n",
        "obj = obj.replace('**csv**', '')\n",
        "line = obj.replace('**', '')\n",
        "line.strip()\n",
        "#print(f'{obj}')"
      ],
      "metadata": {
        "id": "J8Hq7Ry9BKwV"
      },
      "execution_count": null,
      "outputs": []
    },
    {
      "cell_type": "code",
      "source": [
        "final = line.split('\\n\\n')\n",
        "final.pop(0)\n",
        "final[0]\n"
      ],
      "metadata": {
        "id": "mPU0XgXCCB6a"
      },
      "execution_count": null,
      "outputs": []
    },
    {
      "cell_type": "code",
      "source": [
        "#obj2 = {'nivel': 'lv1', 'estrategia': 'estra', 'ejemplo': 'ejem'}\n",
        "\n",
        "f = final[0].split(',')\n",
        "\n",
        "lvArray = []\n",
        "for item in f:\n",
        "  lvArray.append(item.strip())\n",
        "\n",
        "lvArray"
      ],
      "metadata": {
        "id": "rZYRS-JXEtkw"
      },
      "execution_count": null,
      "outputs": []
    },
    {
      "cell_type": "code",
      "source": [
        "lv2Array = []\n",
        "\n",
        "def clean(items):\n",
        "  lv2Array = []\n",
        "  for item2 in items.split(','):\n",
        "    lv2Array.append(item2.strip())\n",
        "\n",
        "  return lv2Array\n",
        "\n",
        "lv3Array = []\n",
        "for item in final[1:-1]:\n",
        "  el = clean(item)[:2]\n",
        "  el.append(','.join(clean(item)[3:]))\n",
        "  lv3Array.append( el )\n",
        "\n",
        "for ind, it in enumerate(lvArray):\n",
        "  lista = {}\n",
        "  for indx, it2 in enumerate(lv3Array):\n",
        "    lista[lvArray[ind]] = lv3Array[ind][indx]\n",
        "    print(lista)\n"
      ],
      "metadata": {
        "id": "awut1_xcHr83"
      },
      "execution_count": null,
      "outputs": []
    }
  ]
}